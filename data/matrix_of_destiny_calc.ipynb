{
 "cells": [
  {
   "cell_type": "markdown",
   "id": "0b789d13-5e0e-4bc0-88c6-8f80a0eaaa65",
   "metadata": {
    "jp-MarkdownHeadingCollapsed": true
   },
   "source": [
    "### Matrix of Destiny — Theoretical Background\n",
    "\n",
    "This notebook implements the \"Matrix of Destiny\", a numerological system\n",
    "that interprets a person's birth date through symbolic numerical structures.\n",
    "___\n",
    "Each individual has **five core numbers** derived from their birth date: Day, Month, Year, Karmic, and Comfort numbers. \n",
    "Additionally, there are **four Corner Numbers**, calculated from the sums of adjacent diagonal numbers.\n",
    "\n",
    "Each number carries a **specific symbolic meaning**, which can be interpreted to understand personal traits, challenges, and potentials.\n",
    "\n",
    "**In the diamond:**\n",
    "\n",
    "- **Center (Comfort / Core Energy)** — your soul’s essence, purpose, and inner balance.\n",
    "- **Left (Portrait)** — how others see you; your social image.\n",
    "- **Top (Hidden Talents)** — natural gifts and potential waiting to be developed.\n",
    "- **Right (Material Karma)** — lessons and blocks related to money, work, and success.\n",
    "- **Bottom (Spiritual Karma)** — deep karmic lessons and spiritual growth.\n",
    "\n",
    "**In the inner square (ancestral programs):**\n",
    "\n",
    "- **Top left** — father’s spiritual lineage.\n",
    "- **Top right** — mother’s spiritual lineage.\n",
    "- **Bottom left** — father’s material lineage.\n",
    "- **Bottom right** — mother’s material lineage.\n",
    "___\n",
    "This notebook calculates these numbers, visualizes the matrix as colored circles in overlapping squares forming an octagon, \n",
    "and provides symbolic interpretations using an external arcana text file.\n"
   ]
  },
  {
   "cell_type": "markdown",
   "id": "e5fb4633-fd3a-438b-89cd-4a5fee297f8d",
   "metadata": {},
   "source": [
    "### Input and Data Extraction\n",
    "\n",
    "This cell requests the user's birth date in the format `\"DD.MM.YYYY\"`.\n",
    "It validates the input format minimally by splitting the string and converting\n",
    "day, month, and year components to integers.\n"
   ]
  },
  {
   "cell_type": "code",
   "execution_count": 2,
   "id": "31ff23d9-2ea8-4995-a54a-a402057ff020",
   "metadata": {},
   "outputs": [
    {
     "name": "stdin",
     "output_type": "stream",
     "text": [
      "Enter your birth date (DD.MM.YYYY):  13.06.2006\n"
     ]
    }
   ],
   "source": [
    "import matplotlib.pyplot as plt\n",
    "\n",
    "import matplotlib.pyplot as plt\n",
    "\n",
    "# === Main input block ===\n",
    "birth = input(\"Enter your birth date (DD.MM.YYYY): \").strip()\n",
    "parts = birth.split('.')\n",
    "day = int(parts[0])\n",
    "month = int(parts[1])\n",
    "year = int(parts[2])"
   ]
  },
  {
   "cell_type": "markdown",
   "id": "076f9184-246b-44b8-a67d-b660c9f8ffc2",
   "metadata": {},
   "source": [
    "### Helper Function: reduce_to_22\n",
    "\n",
    "This function reduces any number to a value less than or equal to 22 by repeatedly summing its digits.\n",
    "\n",
    "**Mathematical Principle:**\n",
    "If `n > 22`, sum its digits until the result ≤22."
   ]
  },
  {
   "cell_type": "code",
   "execution_count": 5,
   "id": "24892f2d-9114-4a78-9237-91491d85963b",
   "metadata": {},
   "outputs": [],
   "source": [
    "def reduce_to_22(n):\n",
    "    \"\"\"\n",
    "    Reduces a number to a value ≤ 22 by repeatedly summing its digits.\n",
    "\n",
    "    Parameters:\n",
    "        n (int) -- input number to be reduced.\n",
    "\n",
    "    Steps:\n",
    "        1. Convert the number to a string and extract each digit.\n",
    "        2. Sum the digits.\n",
    "        3. Repeat until the result is ≤ 22.\n",
    "\n",
    "    Returns:\n",
    "        n (int) -- Reduced number in the range from 1 to 22.\n",
    "    \"\"\"\n",
    "    while n > 22:\n",
    "        n = sum(int(d) for d in str(n))\n",
    "    return n\n"
   ]
  },
  {
   "cell_type": "markdown",
   "id": "81edcd98-4299-4291-8b64-f7ffb87805e2",
   "metadata": {},
   "source": [
    "### Number Calculations\n",
    "\n",
    "The five core numbers are computed from the birth date as follows:\n",
    "\n",
    "1. **Day Number** — the day of birth reduced to ≤22 by summing digits.\n",
    "2. **Month Number** — the month of birth (1–12).\n",
    "3. **Year Number** — sum of all digits of the year, reduced to ≤22.\n",
    "4. **Karmic Number** — sum of Day + Month + Year, reduced to ≤22.\n",
    "5. **Comfort Number** — sum of Day + Month + Year + Karmic, reduced to ≤22.\n",
    "6. **Corner Numbers** — each is the sum of two adjacent diagonal numbers from the main square, reduced to ≤22."
   ]
  },
  {
   "cell_type": "code",
   "execution_count": 7,
   "id": "19a41047-5ed2-4377-85b5-1a94bf6b0d2c",
   "metadata": {},
   "outputs": [],
   "source": [
    "day_num = reduce_to_22(day)\n",
    "month_num = reduce_to_22(month)\n",
    "year_num = reduce_to_22(sum(int(d) for d in str(year)))\n",
    "karmic_num = reduce_to_22(day_num + month_num + year_num)\n",
    "comfort_num = reduce_to_22(day_num + month_num + year_num + karmic_num)\n",
    "\n",
    "matrix_values = {\n",
    "    \"Top\": month_num,\n",
    "    \"Right\": year_num,\n",
    "    \"Bottom\": karmic_num,\n",
    "    \"Left\": day_num,\n",
    "    \"Center\": comfort_num\n",
    "}\n",
    "\n",
    "corners = [\n",
    "    reduce_to_22(matrix_values[\"Top\"] + matrix_values[\"Right\"]),\n",
    "    reduce_to_22(matrix_values[\"Right\"] + matrix_values[\"Bottom\"]),\n",
    "    reduce_to_22(matrix_values[\"Bottom\"] + matrix_values[\"Left\"]),\n",
    "    reduce_to_22(matrix_values[\"Left\"] + matrix_values[\"Top\"])\n",
    "]\n"
   ]
  },
  {
   "cell_type": "markdown",
   "id": "a6aed11a-b13c-4501-8a3e-8fff8aef84bc",
   "metadata": {},
   "source": [
    "### Matrix Visualization\n",
    "\n",
    "The matrix is visualized as two overlapping squares forming an octagon:\n",
    "\n",
    "- Outer square: represents main numbers (Top, Right, Bottom, Left).\n",
    "- Inner square: represents corners.\n",
    "- Center number is placed in the middle.\n",
    "- Colors are used to differentiate types of numbers, and you can customize them.\n",
    "\n",
    "The figure is automatically saved as `Matrix_of_Destiny_DD-MM-YYYY.png`."
   ]
  },
  {
   "cell_type": "code",
   "execution_count": 9,
   "id": "2bcaf9da-bfa5-4f75-8b7c-d3ec88530a6c",
   "metadata": {},
   "outputs": [
    {
     "data": {
      "image/png": "[encoded data removed]",
      "text/plain": [
       "<Figure size 600x600 with 1 Axes>"
      ]
     },
     "metadata": {},
     "output_type": "display_data"
    }
   ],
   "source": [
    "colors = {\n",
    "    \"Top\": \"skyblue\",\n",
    "    \"Right\": \"lightpink\",\n",
    "    \"Bottom\": \"mediumaquamarine\",\n",
    "    \"Left\": \"plum\",\n",
    "    \"Center\": \"gold\",\n",
    "    \"Corners\": \"lavender\"\n",
    "}\n",
    "\n",
    "outer_x = [0, 1, 0, -1, 0]\n",
    "outer_y = [1, 0, -1, 0, 1]\n",
    "inner_x = [0.7, 0.7, -0.7, -0.7, 0.7]\n",
    "inner_y = [0.7, -0.7, -0.7, 0.7, 0.7]\n",
    "\n",
    "positions = {\n",
    "    \"Top\": (0, 1),\n",
    "    \"Right\": (1, 0),\n",
    "    \"Bottom\": (0, -1),\n",
    "    \"Left\": (-1, 0),\n",
    "    \"Center\": (0, 0)\n",
    "}\n",
    "corner_positions = [(0.7, 0.7), (0.7, -0.7), (-0.7, -0.7), (-0.7, 0.7)]\n",
    "\n",
    "plt.figure(figsize=(6, 6))\n",
    "plt.plot(outer_x, outer_y, color=\"black\", lw=1)\n",
    "plt.plot(inner_x, inner_y, color=\"black\", lw=0.75)\n",
    "\n",
    "# Main circles\n",
    "for key, (x, y) in positions.items():\n",
    "    plt.plot(x, y, 'o', markersize=30, color=colors[key])\n",
    "    plt.text(x, y, str(matrix_values[key]), ha='center', va='center',\n",
    "             fontsize=12, fontweight='bold', color='black')\n",
    "\n",
    "# Corner circles\n",
    "for i, (x, y) in enumerate(corner_positions):\n",
    "    plt.plot(x, y, 'o', markersize=25, color=colors[\"Corners\"])\n",
    "    plt.text(x, y, str(corners[i]), ha='center', va='center',\n",
    "             fontsize=11, fontweight='bold', color='black')\n",
    "\n",
    "plt.xlim(-1.2, 1.2)\n",
    "plt.ylim(-1.2, 1.2)\n",
    "plt.gca().set_aspect('equal')\n",
    "plt.xticks([]); plt.yticks([])\n",
    "plt.gca().set_frame_on(False)\n",
    "plt.title(f\"Matrix of Destiny — {birth}\", fontsize=14, pad=20)\n",
    "plt.tight_layout()\n",
    "\n",
    "# Save the figure as a PNG file named by birth date\n",
    "filename = f\"Matrix_of_Destiny_{birth.replace('.', '-')}.png\"\n",
    "plt.savefig(filename, dpi=300, bbox_inches='tight')\n",
    "\n",
    "plt.show()\n",
    "\n"
   ]
  },
  {
   "cell_type": "markdown",
   "id": "549c0cfe-36be-466b-931a-09fce5bcd1dc",
   "metadata": {},
   "source": [
    "### Arcana Interpretation\n",
    "\n",
    "This section loads symbolic interpretations from a tab-separated file.\n",
    "Each number is associated with:\n",
    "\n",
    "- **Name** — arcan name.\n",
    "- **General Meaning** — influence of the number in life.\n",
    "- **Center Interpretation** — description of persons character.\n",
    "- **Birth Card Interpretation** — description of social image."
   ]
  },
  {
   "cell_type": "code",
   "execution_count": 11,
   "id": "50cf596b-acb1-4931-b6df-c492113ada80",
   "metadata": {},
   "outputs": [
    {
     "name": "stdout",
     "output_type": "stream",
     "text": [
      "\n",
      "=== ARCANA INTERPRETATION ===\n",
      "\n",
      "Center: 9 - The Hermit  - In central position, The Hermit signifies a seeker of knowledge and inner illumination. The life path involves self-analysis, research, and teaching by example. The key is learning balance between isolation and sharing. \n",
      "Birth Card (Left): 13 - Death  - Outwardly intense, magnetic, sometimes mysterious. May change appearance or lifestyle radically throughout life. Projects depth and emotional gravity. \n",
      "\n",
      "\n",
      "Other main Arcanas:\n",
      "6 - The Lovers  - Represents relationships, duality, harmony, and choice guided by love and values. Symbol of emotional connection and ethical decision-making. \n",
      "8 - Justice  - Symbolizes fairness, balance, law, and moral accountability. Represents evaluation and rational clarity. \n",
      "9 - The Hermit  - Symbol of solitude, introspection, and pursuit of truth. Associated with wisdom, patience, and spiritual maturity. \n",
      "\n",
      "Big Square Corners:\n",
      "Corner 1 : 14 - Temperance  - Symbolizes moderation, harmony, and healing. Represents the blending of opposites into balance. \n",
      "Corner 2 : 17 - The Star  - Represents hope, inspiration, and spiritual rejuvenation. Symbol of idealism, faith, and gentle creativity. \n",
      "Corner 3 : 22 - The Fool  - Embodies innocence, freedom, curiosity, and new beginnings. Represents openness to life and trust in experience. \n",
      "Corner 4 : 19 - The Sun  - Symbolizes vitality, clarity, joy, and success. Represents truth, openness, and creative realization. \n"
     ]
    }
   ],
   "source": [
    "arcana_file = \"matrix_interpretation.txt\"\n",
    "\n",
    "arcana_data = {}\n",
    "with open(arcana_file) as f:\n",
    "    lines = f.readlines()\n",
    "    for line in lines[1:]:\n",
    "        parts = line.split('\\t')\n",
    "        num = int(parts[0])\n",
    "        arcana_data[num] = {\n",
    "            \"name\": parts[1],\n",
    "            \"general\": parts[2],\n",
    "            \"center\": parts[3],\n",
    "            \"birth_card\": parts[4]\n",
    "        }\n",
    "\n",
    "center_num = matrix_values[\"Center\"]\n",
    "birth_card_num = matrix_values[\"Left\"]\n",
    "\n",
    "print(\"\\n=== ARCANA INTERPRETATION ===\\n\")\n",
    "print(\"Center:\", center_num, \"-\", arcana_data[center_num][\"name\"], \"-\", arcana_data[center_num][\"center\"])\n",
    "print(\"Portrait (Left):\", birth_card_num, \"-\", arcana_data[birth_card_num][\"name\"], \"-\", arcana_data[birth_card_num][\"birth_card\"])\n",
    "\n",
    "print(\"\\nOther main Arcanas:\")\n",
    "for key in [\"Top\", \"Right\", \"Bottom\"]:\n",
    "    num = matrix_values[key]\n",
    "    print(num, \"-\", arcana_data[num][\"name\"], \"-\", arcana_data[num][\"general\"])\n",
    "\n",
    "print(\"\\nBig Square Corners:\")\n",
    "for i in range(len(corners)):\n",
    "    num = corners[i]\n",
    "    print(\"Corner\", i+1, \":\", num, \"-\", arcana_data[num][\"name\"], \"-\", arcana_data[num][\"general\"])\n"
   ]
  }
 ],
 "metadata": {
  "kernelspec": {
   "display_name": "Python 3 (ipykernel)",
   "language": "python",
   "name": "python3"
  },
  "language_info": {
   "codemirror_mode": {
    "name": "ipython",
    "version": 3
   },
   "file_extension": ".py",
   "mimetype": "text/x-python",
   "name": "python",
   "nbconvert_exporter": "python",
   "pygments_lexer": "ipython3",
   "version": "3.12.4"
  }
 },
 "nbformat": 4,
 "nbformat_minor": 5
}
